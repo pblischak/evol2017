{
 "cells": [
  {
   "cell_type": "markdown",
   "metadata": {},
   "source": [
    "## HyDe: a Python Package for Genome-Scale Hybrid Detection\n",
    "\n"
   ]
  },
  {
   "cell_type": "markdown",
   "metadata": {},
   "source": [
    "### 1. Simulation: Hybrid Speciation\n",
    "\n"
   ]
  },
  {
   "cell_type": "code",
   "execution_count": 1,
   "metadata": {
    "collapsed": true
   },
   "outputs": [],
   "source": [
    "%%bash\n",
    "\n",
    "# Set the value of gamma, theta, and \n",
    "# the number of sites that you want\n",
    "GAMMA=0.45\n",
    "THETA=0.1\n",
    "SITES=50000\n",
    "\n",
    "# ms sims tree 1: (((p1,hyb),p2),out)\n",
    "ms 16 $(echo \"$SITES * $GAMMA\" | bc) -T -I 4 5 5 5 1 \\\n",
    "    -ej 0.25 2 1 -ej 0.5 1 3 -ej 0.75 3 4 | grep '^(' > trees.tre\n",
    "\n",
    "# ms sims tree 2: ((p1,(hyb,p2)),out)\n",
    "ms 16 $(echo \"$SITES * (1.0 - $GAMMA)\" | bc) -T -I 4 5 5 5 1 \\\n",
    "    -ej 0.25 2 3 -ej 0.5 1 3 -ej 0.75 3 4 | grep '^(' >> trees.tre\n",
    "\n",
    "#seq-gen sims using GTR+I+G\n",
    "seq-gen -mGTR -s $THETA -l 1 -r 1.0 0.2 10.0 0.75 3.2 1.6 \\\n",
    "    -f 0.15 0.35 0.15 0.35 -i 0.2 -a 5.0 -g 3 -q < trees.tre > seqs.txt\n",
    "\n",
    "\n",
    "# converting for HyDe...\"\n",
    "python seqgen2matrix.py seqs.txt data.txt map.txt"
   ]
  },
  {
   "cell_type": "markdown",
   "metadata": {},
   "source": [
    "Now we will load the HyDe module, read in the data, and perform a hypothesis test using the estimated site patterns from our simulations.\n",
    "\n",
    "```python\n",
    "import phyde as hd\n",
    "\n",
    "hd.HydeData?\n",
    "```"
   ]
  },
  {
   "cell_type": "code",
   "execution_count": 13,
   "metadata": {
    "collapsed": true
   },
   "outputs": [],
   "source": [
    "import phyde as hd"
   ]
  },
  {
   "cell_type": "code",
   "execution_count": 14,
   "metadata": {},
   "outputs": [
    {
     "name": "stdout",
     "output_type": "stream",
     "text": [
      "Reading input file................Done.\n",
      "Reading map file................Done.\n"
     ]
    }
   ],
   "source": [
    "data = hd.HydeData(\"data.txt\", \"map.txt\", \"out\", 16, 4, 50000)\n",
    "res1 = data.test_triple('sp1', 'sp2', 'sp3')\n",
    "res2 = data.test_individuals('sp1', 'sp2', 'sp3')"
   ]
  },
  {
   "cell_type": "code",
   "execution_count": 15,
   "metadata": {},
   "outputs": [
    {
     "data": {
      "text/plain": [
       "{'Gamma': 0.45940773681124786,\n",
       " 'Pvalue': 2.220446049250313e-16,\n",
       " 'Zscore': 8.179342426207114}"
      ]
     },
     "execution_count": 15,
     "metadata": {},
     "output_type": "execute_result"
    }
   ],
   "source": [
    "res1"
   ]
  },
  {
   "cell_type": "code",
   "execution_count": 16,
   "metadata": {},
   "outputs": [
    {
     "name": "stdout",
     "output_type": "stream",
     "text": [
      "['sp1', 'sp2', 'sp3', '8.17934', '2.22045e-16', '0.459408', '4.49628e+06', '276715', '225120', '123045', '19495', '281770', '74176', '18539', '115706', '494397', '35557', '20129', '27837', '38993', '2246']\n",
      "Number of boot reps: 100\n"
     ]
    }
   ],
   "source": [
    "res, boot = hd.run_hyde(\"data.txt\", \"map.txt\", \"out\", 16, 4, 50000, bootReps=100)"
   ]
  },
  {
   "cell_type": "code",
   "execution_count": 17,
   "metadata": {
    "collapsed": true
   },
   "outputs": [],
   "source": [
    "import matplotlib.pyplot as plt\n",
    "import scipy\n",
    "import numpy as np\n",
    "import seaborn as sns"
   ]
  },
  {
   "cell_type": "code",
   "execution_count": 19,
   "metadata": {},
   "outputs": [],
   "source": [
    "%matplotlib inline"
   ]
  },
  {
   "cell_type": "code",
   "execution_count": 23,
   "metadata": {},
   "outputs": [
    {
     "data": {
      "image/png": "[encoded data removed]",
      "text/plain": [
       "<matplotlib.figure.Figure at 0x1199a5c50>"
      ]
     },
     "metadata": {},
     "output_type": "display_data"
    }
   ],
   "source": [
    "ax = sns.distplot(np.array(boot(\"Gamma\", \"sp1\", \"sp2\", \"sp3\")))"
   ]
  },
  {
   "cell_type": "markdown",
   "metadata": {},
   "source": [
    "### 2. Simulation: F1 Hybrid Individual\n",
    "\n"
   ]
  },
  {
   "cell_type": "markdown",
   "metadata": {},
   "source": [
    "### 3. *Heliconius* Butterflies\n",
    "\n"
   ]
  },
  {
   "cell_type": "code",
   "execution_count": null,
   "metadata": {
    "collapsed": true
   },
   "outputs": [],
   "source": []
  }
 ],
 "metadata": {
  "kernelspec": {
   "display_name": "Python 2",
   "language": "python",
   "name": "python2"
  },
  "language_info": {
   "codemirror_mode": {
    "name": "ipython",
    "version": 2
   },
   "file_extension": ".py",
   "mimetype": "text/x-python",
   "name": "python",
   "nbconvert_exporter": "python",
   "pygments_lexer": "ipython2",
   "version": "2.7.13"
  }
 },
 "nbformat": 4,
 "nbformat_minor": 2
}
